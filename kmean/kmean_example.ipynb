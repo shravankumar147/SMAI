{
 "cells": [
  {
   "cell_type": "markdown",
   "metadata": {},
   "source": [
    "## K-mean clustering \n",
    "### A numerical example "
   ]
  },
  {
   "cell_type": "code",
   "execution_count": null,
   "metadata": {
    "collapsed": true,
    "scrolled": true
   },
   "outputs": [],
   "source": [
    "import numpy as np\n",
    "import matplotlib.pyplot as plt\n",
    "\n",
    "from sklearn.metrics.pairwise import euclidean_distances\n",
    "import warnings\n",
    "warnings.filterwarnings(\"ignore\")\n",
    "\n",
    "%matplotlib inline"
   ]
  },
  {
   "cell_type": "markdown",
   "metadata": {},
   "source": [
    "Here we imprort the required python packages, as we are implementing \n",
    "a simple k-means clustering from scratch, we use numpy to create arrays,\n",
    "then matplotlib to show the point or clusters graphically. Then we have imported \n",
    "euclidean_distances from sklearn to measure distances between each point \n",
    "to the centroid. "
   ]
  },
  {
   "cell_type": "code",
   "execution_count": null,
   "metadata": {
    "collapsed": false,
    "scrolled": true
   },
   "outputs": [],
   "source": [
    "d = np.array([[1,1],[1,2],[2,1],[4,3],[3,4],[5,4]])\n",
    "print(d)\n",
    "print(\"shape of d is : {}\".format(d.shape))\n",
    "plt.scatter(d[:,0],d[:,1])"
   ]
  },
  {
   "cell_type": "markdown",
   "metadata": {},
   "source": [
    "d contains the data points, and we are plotting using scatter plot"
   ]
  },
  {
   "cell_type": "code",
   "execution_count": 244,
   "metadata": {
    "collapsed": false,
    "scrolled": true
   },
   "outputs": [
    {
     "name": "stdout",
     "output_type": "stream",
     "text": [
      "[[ 2.1  1.5]\n",
      " [ 5.   1. ]]\n"
     ]
    },
    {
     "data": {
      "text/plain": [
       "<matplotlib.collections.PathCollection at 0x7fa7b5e85890>"
      ]
     },
     "execution_count": 244,
     "metadata": {},
     "output_type": "execute_result"
    },
    {
     "data": {
      "image/png": "[encoded data removed]",
      "text/plain": [
       "<matplotlib.figure.Figure at 0x7fa7b6619150>"
      ]
     },
     "metadata": {},
     "output_type": "display_data"
    }
   ],
   "source": [
    "# initialize the centroids\n",
    "c1 = np.array([2.1,1.5])\n",
    "c2 = np.array([5,1])\n",
    "C = np.c_[c1,c2].T\n",
    "print(C)\n",
    "# find euclidean distance between the points and centroids\n",
    "plt.scatter(d[:,0],d[:,1])\n",
    "plt.scatter(C[:,0],C[:,1],color='r')\n",
    "# C[:,0] represents the x values and ,C[:,1] represents the y-values\n",
    "# C[:,0] = (1,1), C[:,1]=(2,1)"
   ]
  },
  {
   "cell_type": "markdown",
   "metadata": {},
   "source": [
    "Here we initializing the centroids(randomely), then plotting over the data in a different color(red)."
   ]
  },
  {
   "cell_type": "code",
   "execution_count": 242,
   "metadata": {
    "collapsed": false,
    "scrolled": true
   },
   "outputs": [],
   "source": [
    "def dist(d,C):\n",
    "    \"\"\"\n",
    "    Distance between the data paoint to the centroid\n",
    "    \"\"\"\n",
    "    S = []\n",
    "    for i in range(len(C)):\n",
    "        s = euclidean_distances(d,C[i])\n",
    "        S.append(s)\n",
    "    print(S[0].T)\n",
    "    print(S[1].T)\n",
    "    return S\n",
    "\n",
    "\n",
    "def updateCentroids(S):\n",
    "    # find the groups \n",
    "    \n",
    "    g1 = (S[0]<S[1]).astype('float')\n",
    "    g2 = (S[1]<S[0]).astype('float')\n",
    "    # computing new centroids\n",
    "    c1 = np.sum(g1*d,axis=0)/sum(g1*d>0).astype('float')\n",
    "    c2 = np.sum(g2*d,axis=0)/sum(g2*d>0).astype('float')\n",
    "    C = np.c_[c1,c2].T\n",
    "    # print(c1,c2)\n",
    "    print(\"new centroids{}{}\".format(c1,c2))\n",
    "    plt.scatter(d[:,0],d[:,1])\n",
    "    plt.scatter(C[:,0],C[:,1],color='r')\n",
    "    \n",
    "    return C"
   ]
  },
  {
   "cell_type": "markdown",
   "metadata": {},
   "source": [
    "These are the two helper function, we use to find the distance between \n",
    "points and cenroids and update the centroids based on distances. "
   ]
  },
  {
   "cell_type": "code",
   "execution_count": 243,
   "metadata": {
    "collapsed": false,
    "scrolled": true
   },
   "outputs": [
    {
     "name": "stdout",
     "output_type": "stream",
     "text": [
      "[[ 1.2083046   1.2083046   0.50990195  2.42074369  2.65706605  3.82883794]]\n",
      "[[ 4.          4.12310563  3.          2.23606798  3.60555128  3.        ]]\n",
      "new centroids[ 1.75  2.  ][ 4.5  3.5]\n"
     ]
    },
    {
     "data": {
      "image/png": "[encoded data removed]",
      "text/plain": [
       "<matplotlib.figure.Figure at 0x7fa7b5f97a10>"
      ]
     },
     "metadata": {},
     "output_type": "display_data"
    }
   ],
   "source": [
    "S = dist(d,C)\n",
    "C = updateCentroids(S)"
   ]
  },
  {
   "cell_type": "markdown",
   "metadata": {},
   "source": [
    "The centroids are updated, and see they are getting closer to the clusters."
   ]
  },
  {
   "cell_type": "code",
   "execution_count": 245,
   "metadata": {
    "collapsed": false,
    "scrolled": true
   },
   "outputs": [
    {
     "name": "stdout",
     "output_type": "stream",
     "text": [
      "[[ 1.2083046   1.2083046   0.50990195  2.42074369  2.65706605  3.82883794]]\n",
      "[[ 4.          4.12310563  3.          2.23606798  3.60555128  3.        ]]\n",
      "new centroids[ 1.75  2.  ][ 4.5  3.5]\n"
     ]
    },
    {
     "data": {
      "image/png": "[encoded data removed]",
      "text/plain": [
       "<matplotlib.figure.Figure at 0x7fa7b5ecf250>"
      ]
     },
     "metadata": {},
     "output_type": "display_data"
    }
   ],
   "source": [
    "S = dist(d,C)\n",
    "C = updateCentroids(S)"
   ]
  },
  {
   "cell_type": "code",
   "execution_count": 246,
   "metadata": {
    "collapsed": false,
    "scrolled": true
   },
   "outputs": [
    {
     "name": "stdout",
     "output_type": "stream",
     "text": [
      "[[ 1.25        0.75        1.03077641  2.46221445  2.35849528  3.81608438]]\n",
      "[[ 4.30116263  3.80788655  3.53553391  0.70710678  1.58113883  0.70710678]]\n",
      "new centroids[ 1.33333333  1.33333333][ 4.          3.66666667]\n"
     ]
    },
    {
     "data": {
      "image/png": "[encoded data removed]",
      "text/plain": [
       "<matplotlib.figure.Figure at 0x7fa7b5d86b10>"
      ]
     },
     "metadata": {},
     "output_type": "display_data"
    }
   ],
   "source": [
    "S = dist(d,C)\n",
    "C = updateCentroids(S)"
   ]
  },
  {
   "cell_type": "code",
   "execution_count": null,
   "metadata": {
    "collapsed": true
   },
   "outputs": [],
   "source": [
    "Ahha..!!! look at the perfectness. you can repeat the process few more times.\n",
    "But the algorithm finds the best centroids. So the above plot will be repeated. \n"
   ]
  },
  {
   "cell_type": "code",
   "execution_count": 247,
   "metadata": {
    "collapsed": true,
    "scrolled": true
   },
   "outputs": [],
   "source": [
    "from sklearn.cluster import KMeans\n",
    "kmeans = KMeans(n_clusters=2, random_state=0).fit(d)"
   ]
  },
  {
   "cell_type": "code",
   "execution_count": 248,
   "metadata": {
    "collapsed": false,
    "scrolled": true
   },
   "outputs": [
    {
     "data": {
      "text/plain": [
       "array([1, 1, 1, 0, 0, 0], dtype=int32)"
      ]
     },
     "execution_count": 248,
     "metadata": {},
     "output_type": "execute_result"
    }
   ],
   "source": [
    "kmeans.labels_"
   ]
  },
  {
   "cell_type": "markdown",
   "metadata": {},
   "source": [
    "It is just to confirm our approach with sklearn k-means clustering. I think we did well. "
   ]
  }
 ],
 "metadata": {
  "kernelspec": {
   "display_name": "Python [Root]",
   "language": "python",
   "name": "Python [Root]"
  },
  "language_info": {
   "codemirror_mode": {
    "name": "ipython",
    "version": 2
   },
   "file_extension": ".py",
   "mimetype": "text/x-python",
   "name": "python",
   "nbconvert_exporter": "python",
   "pygments_lexer": "ipython2",
   "version": "2.7.12"
  }
 },
 "nbformat": 4,
 "nbformat_minor": 0
}
